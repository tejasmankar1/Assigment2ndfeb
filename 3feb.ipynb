{
 "cells": [
  {
   "cell_type": "code",
   "execution_count": 7,
   "id": "7e0a5f28-ac70-4b06-9b0e-b3fb2dbd3fc1",
   "metadata": {},
   "outputs": [],
   "source": [
    "# Q1. Which keyword is used to create a function? Create a function to return a list of odd numbers in the  range of 1 to 25. \n",
    "# :- def keyword is used to create a function in python\n",
    "l = []\n",
    "def odd():\n",
    "    for i in range(26):\n",
    "        if i%2!=0:\n",
    "            l.append(i)\n",
    "    return l"
   ]
  },
  {
   "cell_type": "code",
   "execution_count": 8,
   "id": "94e0499e-e610-4cc4-a945-52f958320b44",
   "metadata": {},
   "outputs": [
    {
     "data": {
      "text/plain": [
       "[1, 3, 5, 7, 9, 11, 13, 15, 17, 19, 21, 23, 25]"
      ]
     },
     "execution_count": 8,
     "metadata": {},
     "output_type": "execute_result"
    }
   ],
   "source": [
    "odd()"
   ]
  },
  {
   "cell_type": "code",
   "execution_count": 2,
   "id": "f64b5eac-b773-4c37-b8a8-ceef551315b3",
   "metadata": {},
   "outputs": [],
   "source": [
    "# Q2. Why *args and **kwargs is used in some functions? Create a function each for *args and **kwargs  to demonstrate their use. \n",
    "# :- We use *args and **kwargs as arguments of a function when you are unsure about the number of arguments to pass in the functions.\n",
    "#*args\n",
    "def test1(*args):\n",
    "    return args"
   ]
  },
  {
   "cell_type": "code",
   "execution_count": 9,
   "id": "98835078-acc5-4158-a06a-88c557d022f5",
   "metadata": {},
   "outputs": [
    {
     "data": {
      "text/plain": [
       "(1, 2, 3)"
      ]
     },
     "execution_count": 9,
     "metadata": {},
     "output_type": "execute_result"
    }
   ],
   "source": [
    "test1(1,2,3)"
   ]
  },
  {
   "cell_type": "code",
   "execution_count": 3,
   "id": "d4f04d23-9ea4-417b-a184-c919825d26ac",
   "metadata": {},
   "outputs": [],
   "source": [
    "#**kwargs\n",
    "def test2(**kwargs):\n",
    "    return kwargs"
   ]
  },
  {
   "cell_type": "code",
   "execution_count": 10,
   "id": "9babfd64-714b-427b-bfb7-a71fb8034e88",
   "metadata": {},
   "outputs": [
    {
     "data": {
      "text/plain": [
       "{'a': 10, 'b': 20}"
      ]
     },
     "execution_count": 10,
     "metadata": {},
     "output_type": "execute_result"
    }
   ],
   "source": [
    "test2(a=10,b=20)"
   ]
  },
  {
   "cell_type": "code",
   "execution_count": 4,
   "id": "3ceb6b2c-31db-4633-8480-19d4c5aa316c",
   "metadata": {},
   "outputs": [
    {
     "name": "stdout",
     "output_type": "stream",
     "text": [
      "2\n",
      "4\n",
      "6\n",
      "8\n",
      "10\n"
     ]
    }
   ],
   "source": [
    "# Q3.  What is an iterator in python? Name the method used to initialise the iterator object and the method  used for iteration. Use these methods to print the first five elements of the given list [2, 4, 6, 8, 10, 12, 14,  16, 18, 20]. \n",
    "# :-An iterator is an object that contains a countable number of values.\n",
    "# Iter() method is used to initialize the iterator object so that the instance of this object can be used for iterating\n",
    "lst = [2, 4, 6, 8, 10, 12, 14, 16, 18, 20]\n",
    "it = iter(lst)\n",
    "for i in range(5):\n",
    "    print(next(it))\n"
   ]
  },
  {
   "cell_type": "code",
   "execution_count": 5,
   "id": "b2a43835-e22a-4c3c-87ef-1bcf52a6a933",
   "metadata": {},
   "outputs": [],
   "source": [
    "# Q4.  What is a generator function in python? Why yield keyword is used? Give an example of a generator  function. \n",
    "# :-In Python, a generator is a function that returns an iterator that produces a sequence of values when iterated over\n",
    "# the yield keyword will convert an expression that is specified along with it to a generator object and return it to the caller. \n",
    "def fibonacci(n):\n",
    "    a, b = 0, 1\n",
    "    for _ in range(n):\n",
    "        yield a\n",
    "        a, b = b, a + b\n"
   ]
  },
  {
   "cell_type": "code",
   "execution_count": 11,
   "id": "96481eab-dcf3-477a-8d65-d7759da1a570",
   "metadata": {},
   "outputs": [
    {
     "name": "stdout",
     "output_type": "stream",
     "text": [
      "0\n",
      "1\n",
      "1\n",
      "2\n",
      "3\n",
      "5\n",
      "8\n",
      "13\n",
      "21\n",
      "34\n"
     ]
    }
   ],
   "source": [
    "for num in fibonacci(10):\n",
    "    print(num)"
   ]
  },
  {
   "cell_type": "code",
   "execution_count": 12,
   "id": "f54a6109-6450-4976-a991-fc68fead81d5",
   "metadata": {},
   "outputs": [],
   "source": [
    "# Q5. Create a generator function for prime numbers less than 1000. Use the next() method to print the  first 20 prime numbers\n",
    "def prime():\n",
    "    yield 2\n",
    "    num = 3\n",
    "    while num < 1000:\n",
    "        for i in range(2, int(num ** 0.5) + 1):\n",
    "            if num % i == 0:\n",
    "                break\n",
    "        else:\n",
    "            yield num\n",
    "        num += 2"
   ]
  },
  {
   "cell_type": "code",
   "execution_count": 13,
   "id": "c56bf290-d394-448b-b88e-0aeeeba024cf",
   "metadata": {},
   "outputs": [
    {
     "name": "stdout",
     "output_type": "stream",
     "text": [
      "2\n",
      "3\n",
      "5\n",
      "7\n",
      "11\n",
      "13\n",
      "17\n",
      "19\n",
      "23\n",
      "29\n",
      "31\n",
      "37\n",
      "41\n",
      "43\n",
      "47\n",
      "53\n",
      "59\n",
      "61\n",
      "67\n",
      "71\n"
     ]
    }
   ],
   "source": [
    "prime_gen = prime()\n",
    "for i in range(20):\n",
    "    print(next(prime_gen))"
   ]
  },
  {
   "cell_type": "code",
   "execution_count": 14,
   "id": "418d0ac6-7eed-41fb-b402-cb393f0e1c27",
   "metadata": {},
   "outputs": [
    {
     "name": "stdout",
     "output_type": "stream",
     "text": [
      "0\n",
      "1\n",
      "1\n",
      "2\n",
      "3\n",
      "5\n",
      "8\n",
      "13\n",
      "21\n",
      "34\n"
     ]
    }
   ],
   "source": [
    "# Q6. Write a python program to print the first 10 Fibonacci numbers using a while loop. \n",
    "a,b=0,1\n",
    "counter=0\n",
    "while counter<10:\n",
    "    print(a)\n",
    "    c=a+b\n",
    "    a=b\n",
    "    b=c\n",
    "    counter=counter+1"
   ]
  },
  {
   "cell_type": "code",
   "execution_count": 15,
   "id": "1961b380-7eb3-4136-aa0a-42f7308c8e44",
   "metadata": {},
   "outputs": [
    {
     "data": {
      "text/plain": [
       "['p', 'w', 's', 'k', 'i', 'l', 'l', 's']"
      ]
     },
     "execution_count": 15,
     "metadata": {},
     "output_type": "execute_result"
    }
   ],
   "source": [
    "# Q7. Write a List Comprehension to iterate through the given string: ‘pwskills’.\n",
    "s=\"pwskills\"\n",
    "list(s)"
   ]
  },
  {
   "cell_type": "code",
   "execution_count": 16,
   "id": "eda6c97c-3e1c-40ad-87b7-4e9f33d430de",
   "metadata": {},
   "outputs": [
    {
     "name": "stdin",
     "output_type": "stream",
     "text": [
      "Enter a number:  121\n"
     ]
    },
    {
     "name": "stdout",
     "output_type": "stream",
     "text": [
      "121 is a palindrome number\n"
     ]
    }
   ],
   "source": [
    "# Q8. Write a python program to check whether a given number is Palindrome or not using a while loop. \n",
    "num = int(input(\"Enter a number: \"))\n",
    "temp = num\n",
    "reverse_num = 0\n",
    "\n",
    "while temp > 0:\n",
    "    remainder = temp % 10\n",
    "    reverse_num = (reverse_num * 10) + remainder\n",
    "    temp //= 10\n",
    "\n",
    "if num == reverse_num:\n",
    "    print(num, \"is a palindrome number\")\n",
    "else:\n",
    "    print(num, \"is not a palindrome number\")\n"
   ]
  },
  {
   "cell_type": "code",
   "execution_count": 17,
   "id": "f3eb0a35-5f24-4500-b8b6-b67dc9b41084",
   "metadata": {},
   "outputs": [],
   "source": [
    "# Q9. Write a code to print odd numbers from 1 to 100 using list comprehension. \n",
    "l=[]"
   ]
  },
  {
   "cell_type": "code",
   "execution_count": 18,
   "id": "ea1088c5-1c61-4407-9937-946790e2e923",
   "metadata": {},
   "outputs": [
    {
     "data": {
      "text/plain": [
       "[0,\n",
       " 1,\n",
       " 2,\n",
       " 3,\n",
       " 4,\n",
       " 5,\n",
       " 6,\n",
       " 7,\n",
       " 8,\n",
       " 9,\n",
       " 10,\n",
       " 11,\n",
       " 12,\n",
       " 13,\n",
       " 14,\n",
       " 15,\n",
       " 16,\n",
       " 17,\n",
       " 18,\n",
       " 19,\n",
       " 20,\n",
       " 21,\n",
       " 22,\n",
       " 23,\n",
       " 24,\n",
       " 25,\n",
       " 26,\n",
       " 27,\n",
       " 28,\n",
       " 29,\n",
       " 30,\n",
       " 31,\n",
       " 32,\n",
       " 33,\n",
       " 34,\n",
       " 35,\n",
       " 36,\n",
       " 37,\n",
       " 38,\n",
       " 39,\n",
       " 40,\n",
       " 41,\n",
       " 42,\n",
       " 43,\n",
       " 44,\n",
       " 45,\n",
       " 46,\n",
       " 47,\n",
       " 48,\n",
       " 49,\n",
       " 50,\n",
       " 51,\n",
       " 52,\n",
       " 53,\n",
       " 54,\n",
       " 55,\n",
       " 56,\n",
       " 57,\n",
       " 58,\n",
       " 59,\n",
       " 60,\n",
       " 61,\n",
       " 62,\n",
       " 63,\n",
       " 64,\n",
       " 65,\n",
       " 66,\n",
       " 67,\n",
       " 68,\n",
       " 69,\n",
       " 70,\n",
       " 71,\n",
       " 72,\n",
       " 73,\n",
       " 74,\n",
       " 75,\n",
       " 76,\n",
       " 77,\n",
       " 78,\n",
       " 79,\n",
       " 80,\n",
       " 81,\n",
       " 82,\n",
       " 83,\n",
       " 84,\n",
       " 85,\n",
       " 86,\n",
       " 87,\n",
       " 88,\n",
       " 89,\n",
       " 90,\n",
       " 91,\n",
       " 92,\n",
       " 93,\n",
       " 94,\n",
       " 95,\n",
       " 96,\n",
       " 97,\n",
       " 98,\n",
       " 99]"
      ]
     },
     "execution_count": 18,
     "metadata": {},
     "output_type": "execute_result"
    }
   ],
   "source": [
    "[i for i in range(100)]"
   ]
  },
  {
   "cell_type": "code",
   "execution_count": 19,
   "id": "a398c401-3c11-4d46-bdd9-8921f3920b0e",
   "metadata": {},
   "outputs": [
    {
     "data": {
      "text/plain": [
       "[1,\n",
       " 3,\n",
       " 5,\n",
       " 7,\n",
       " 9,\n",
       " 11,\n",
       " 13,\n",
       " 15,\n",
       " 17,\n",
       " 19,\n",
       " 21,\n",
       " 23,\n",
       " 25,\n",
       " 27,\n",
       " 29,\n",
       " 31,\n",
       " 33,\n",
       " 35,\n",
       " 37,\n",
       " 39,\n",
       " 41,\n",
       " 43,\n",
       " 45,\n",
       " 47,\n",
       " 49,\n",
       " 51,\n",
       " 53,\n",
       " 55,\n",
       " 57,\n",
       " 59,\n",
       " 61,\n",
       " 63,\n",
       " 65,\n",
       " 67,\n",
       " 69,\n",
       " 71,\n",
       " 73,\n",
       " 75,\n",
       " 77,\n",
       " 79,\n",
       " 81,\n",
       " 83,\n",
       " 85,\n",
       " 87,\n",
       " 89,\n",
       " 91,\n",
       " 93,\n",
       " 95,\n",
       " 97,\n",
       " 99]"
      ]
     },
     "execution_count": 19,
     "metadata": {},
     "output_type": "execute_result"
    }
   ],
   "source": [
    "[i for i in range(100) if i%2!=0]"
   ]
  },
  {
   "cell_type": "code",
   "execution_count": null,
   "id": "cce6755b-7e03-4e1f-a73b-c5aa8e6f948e",
   "metadata": {},
   "outputs": [],
   "source": []
  }
 ],
 "metadata": {
  "kernelspec": {
   "display_name": "Python 3 (ipykernel)",
   "language": "python",
   "name": "python3"
  },
  "language_info": {
   "codemirror_mode": {
    "name": "ipython",
    "version": 3
   },
   "file_extension": ".py",
   "mimetype": "text/x-python",
   "name": "python",
   "nbconvert_exporter": "python",
   "pygments_lexer": "ipython3",
   "version": "3.10.8"
  }
 },
 "nbformat": 4,
 "nbformat_minor": 5
}
