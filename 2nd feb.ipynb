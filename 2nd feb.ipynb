{
 "cells": [
  {
   "cell_type": "code",
   "execution_count": null,
   "id": "12485a9b-fe40-44bd-9a0a-235d4751bca4",
   "metadata": {},
   "outputs": [],
   "source": [
    "1.)\n",
    "for loop is used when the specific block of code is repeated for known number of times.\n",
    "for example\n",
    "l=[1,2,3,44,5,25]\n",
    "for i in l:\n",
    "    print(i)\n",
    "    i=i+1\n",
    "while loop is used when the specific block of code is repeated for unknown number of times.\n",
    "for example\n",
    "a=1\n",
    "while a<=10:\n",
    "    print(a)\n",
    "    a=a+1"
   ]
  },
  {
   "cell_type": "code",
   "execution_count": 3,
   "id": "fcf83c02-02e5-496b-bec3-83c5a30ea5be",
   "metadata": {},
   "outputs": [
    {
     "name": "stdout",
     "output_type": "stream",
     "text": [
      "Sum is :  55\n",
      "Product is :  3628800\n"
     ]
    }
   ],
   "source": [
    "#sum and product of 10 natural numbers using for loop\n",
    "n=[1,2,3,4,5,6,7,8,9,10]\n",
    "i=1\n",
    "sum=0\n",
    "product=1\n",
    "for i  in n:\n",
    "    sum=sum+i\n",
    "    product=product*i\n",
    "    i=i+1\n",
    "print(\"Sum is : \",sum)\n",
    "print(\"Product is : \",product)"
   ]
  },
  {
   "cell_type": "code",
   "execution_count": 6,
   "id": "73a59e9b-4169-4b50-9e7b-9d90364addf8",
   "metadata": {},
   "outputs": [
    {
     "name": "stdin",
     "output_type": "stream",
     "text": [
      "Enter the no:  10\n"
     ]
    },
    {
     "name": "stdout",
     "output_type": "stream",
     "text": [
      "Sum is :  55\n",
      "Product is :  3628800\n"
     ]
    }
   ],
   "source": [
    "#sum and product of 10 natural numbers using while loop\n",
    "l=int(input(\"Enter the no: \"))\n",
    "j=1\n",
    "sum1=0\n",
    "product1=1\n",
    "while j<=l:\n",
    "    sum1=sum1+j\n",
    "    product1=product1*j\n",
    "    j=j+1\n",
    "print(\"Sum is : \",sum1)\n",
    "print(\"Product is : \",product1)    \n",
    "    "
   ]
  },
  {
   "cell_type": "code",
   "execution_count": null,
   "id": "551cc6da-2577-4232-884b-51fba4b20309",
   "metadata": {},
   "outputs": [],
   "source": [
    "#electricity bill calculator\n",
    "units=int(input(\"Enter the no of units: \"))\n",
    "def calculateBill(units):\n",
    "    if (units <= 100):\n",
    "      \n",
    "        return units * 4.5;\n",
    "     \n",
    "    elif (units <= 200):\n",
    "     \n",
    "        return ((100 * 4.5) +\n",
    "                (units - 100) * 6);\n",
    "     \n",
    "    elif (units <= 300):\n",
    "      \n",
    "        return ((100 * 4.5) +\n",
    "                (100 * 6) +\n",
    "                (units - 200) * 10);\n",
    "     \n",
    "    elif (units > 300):\n",
    "     \n",
    "        return ((100 * 4.5) +\n",
    "                (100 * 6) +\n",
    "                (100 * 10) +\n",
    "                (units - 300) * 20);\n",
    "     \n",
    "    return 0;\n",
    "print(calculateBill(units))"
   ]
  },
  {
   "cell_type": "code",
   "execution_count": 3,
   "id": "f2de9d1f-efb9-43fc-b917-7f9d51de1cf0",
   "metadata": {},
   "outputs": [
    {
     "data": {
      "text/plain": [
       "[1,\n",
       " 8,\n",
       " 27,\n",
       " 64,\n",
       " 125,\n",
       " 216,\n",
       " 343,\n",
       " 512,\n",
       " 729,\n",
       " 1000,\n",
       " 1331,\n",
       " 1728,\n",
       " 2197,\n",
       " 2744,\n",
       " 3375,\n",
       " 4096,\n",
       " 4913,\n",
       " 5832,\n",
       " 6859,\n",
       " 8000,\n",
       " 9261,\n",
       " 10648,\n",
       " 12167,\n",
       " 13824,\n",
       " 15625,\n",
       " 17576,\n",
       " 19683,\n",
       " 21952,\n",
       " 24389,\n",
       " 27000,\n",
       " 29791,\n",
       " 32768,\n",
       " 35937,\n",
       " 39304,\n",
       " 42875,\n",
       " 46656,\n",
       " 50653,\n",
       " 54872,\n",
       " 59319,\n",
       " 64000,\n",
       " 68921,\n",
       " 74088,\n",
       " 79507,\n",
       " 85184,\n",
       " 91125,\n",
       " 97336,\n",
       " 103823,\n",
       " 110592,\n",
       " 117649,\n",
       " 125000,\n",
       " 132651,\n",
       " 140608,\n",
       " 148877,\n",
       " 157464,\n",
       " 166375,\n",
       " 175616,\n",
       " 185193,\n",
       " 195112,\n",
       " 205379,\n",
       " 216000,\n",
       " 226981,\n",
       " 238328,\n",
       " 250047,\n",
       " 262144,\n",
       " 274625,\n",
       " 287496,\n",
       " 300763,\n",
       " 314432,\n",
       " 328509,\n",
       " 343000,\n",
       " 357911,\n",
       " 373248,\n",
       " 389017,\n",
       " 405224,\n",
       " 421875,\n",
       " 438976,\n",
       " 456533,\n",
       " 474552,\n",
       " 493039,\n",
       " 512000,\n",
       " 531441,\n",
       " 551368,\n",
       " 571787,\n",
       " 592704,\n",
       " 614125,\n",
       " 636056,\n",
       " 658503,\n",
       " 681472,\n",
       " 704969,\n",
       " 729000,\n",
       " 753571,\n",
       " 778688,\n",
       " 804357,\n",
       " 830584,\n",
       " 857375,\n",
       " 884736,\n",
       " 912673,\n",
       " 941192,\n",
       " 970299,\n",
       " 1000000]"
      ]
     },
     "execution_count": 3,
     "metadata": {},
     "output_type": "execute_result"
    }
   ],
   "source": [
    "#cube of numbers\n",
    "l1=[]\n",
    "l2=[]\n",
    "for i in range(1,101):\n",
    "    cube=i*i*i\n",
    "    if cube%4==0 or cube%5==0:\n",
    "        l1.append(cube)\n",
    "print(l1"
   ]
  },
  {
   "cell_type": "code",
   "execution_count": 1,
   "id": "e1b7ebc0-9854-4cb3-8fd2-8b640c0155eb",
   "metadata": {},
   "outputs": [
    {
     "name": "stdout",
     "output_type": "stream",
     "text": [
      "No. of vowels : 12\n"
     ]
    }
   ],
   "source": [
    "s=\"I want to become a data Scientist\"\n",
    "vowel = \"aeiouAEIOU\"\n",
    "def vowel_count(s):\n",
    "\ti = 0\n",
    "\tfor alphabet in s:\n",
    "\t\tif alphabet in vowel:\n",
    "\t\t\ti = i + 1\n",
    "\tprint(\"No. of vowels :\", i)\n",
    "vowel_count(s)"
   ]
  },
  {
   "cell_type": "code",
   "execution_count": null,
   "id": "150146d1-68fe-4be8-bcd4-d15f9d42a188",
   "metadata": {},
   "outputs": [],
   "source": []
  }
 ],
 "metadata": {
  "kernelspec": {
   "display_name": "Python 3 (ipykernel)",
   "language": "python",
   "name": "python3"
  },
  "language_info": {
   "codemirror_mode": {
    "name": "ipython",
    "version": 3
   },
   "file_extension": ".py",
   "mimetype": "text/x-python",
   "name": "python",
   "nbconvert_exporter": "python",
   "pygments_lexer": "ipython3",
   "version": "3.10.8"
  }
 },
 "nbformat": 4,
 "nbformat_minor": 5
}
