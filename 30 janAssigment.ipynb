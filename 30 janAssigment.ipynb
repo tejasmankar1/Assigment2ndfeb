{
 "cells": [
  {
   "cell_type": "code",
   "execution_count": 3,
   "id": "67f70dfc-2793-4889-8e5d-c31d4c8b8542",
   "metadata": {},
   "outputs": [
    {
     "name": "stdin",
     "output_type": "stream",
     "text": [
      "Enter the marks: :  91\n"
     ]
    },
    {
     "name": "stdout",
     "output_type": "stream",
     "text": [
      "Grade A\n"
     ]
    }
   ],
   "source": [
    "#1  Write a program to accept percentage from the user and display the grade according to the following\n",
    "percentage=int(input(\"Enter the marks: : \"))\n",
    "if percentage>90:\n",
    "    print(\"Grade A\")\n",
    "elif 80<percentage<=90:\n",
    "    print(\"Grade B\")\n",
    "elif 60<=percentage<=80:\n",
    "    print(\"Grade C\")\n",
    "elif percentage<60:\n",
    "    print(\"Grade D\")"
   ]
  },
  {
   "cell_type": "code",
   "execution_count": 1,
   "id": "19f84771-33cf-4024-8234-cd8f2255405b",
   "metadata": {},
   "outputs": [
    {
     "name": "stdin",
     "output_type": "stream",
     "text": [
      "Enter the Cost of Bike:  1500000\n"
     ]
    },
    {
     "name": "stdout",
     "output_type": "stream",
     "text": [
      "The road tax to be paid is 225000.0\n"
     ]
    }
   ],
   "source": [
    "#2 Write a program to accept the cost price of a bike and display the road tax to be paid according to the criteria\n",
    "bikecost=float(input(\"Enter the Cost of Bike: \"))\n",
    "if bikecost>100000:\n",
    "    roadtax=(15/100)*bikecost\n",
    "    print(\"The road tax to be paid is\",roadtax)\n",
    "elif bikecost>500000 and bikecost<=100000:\n",
    "    roadtax=(10/100)*bikecost\n",
    "    print(\"The road tax to be paid is\",roadtax)\n",
    "elif bikecost<=50000:\n",
    "    roadtax=(5/100)*bikecost\n",
    "    print(\"The road tax to be paid is\",roadtax)\n"
   ]
  },
  {
   "cell_type": "code",
   "execution_count": 2,
   "id": "aa8e6138-8004-4f19-af31-a7035730f348",
   "metadata": {},
   "outputs": [
    {
     "name": "stdin",
     "output_type": "stream",
     "text": [
      "Enter the name of city to view Monument name:  agra\n"
     ]
    },
    {
     "name": "stdout",
     "output_type": "stream",
     "text": [
      "Red Fort\n"
     ]
    }
   ],
   "source": [
    "# 3. Accept any city from the user and display monuments of that city. A\n",
    "city=str(input(\"Enter the name of city to view Monument name: \"))\n",
    "if city==\"Delhi\" or \"delhi\":\n",
    "    print(\"Red Fort\")\n",
    "elif city==\"Agra\" or \"agra\":\n",
    "    print(\"Taj Mahal\")\n",
    "elif city==\"Jaipur\"or\"jaipur\":\n",
    "    print(\"Jal Mahal\")\n",
    "else:\n",
    "    print(\"Select City between the following : Delhi,Agra,Jaipur\")"
   ]
  },
  {
   "cell_type": "code",
   "execution_count": 6,
   "id": "00e088ee-08d8-465e-9424-3a12ca86c9c8",
   "metadata": {},
   "outputs": [
    {
     "name": "stdin",
     "output_type": "stream",
     "text": [
      "Enter the Number:  60\n"
     ]
    },
    {
     "name": "stdout",
     "output_type": "stream",
     "text": [
      "The number is divisible by 3 :  2 times\n"
     ]
    }
   ],
   "source": [
    "#4. Check how many times a given number can be divided by 3 before it is less than or equal to 10. \n",
    "num=int(input(\"Enter the Number: \"))\n",
    "count=0\n",
    "if num%3==0:\n",
    "    while num>=10:\n",
    "        count=count+1\n",
    "        num=num/3\n",
    "print(\"The number is divisible by 3 : \",count,\"times\")"
   ]
  },
  {
   "cell_type": "code",
   "execution_count": 7,
   "id": "12938886-8e75-46f8-b961-2d0b5dffb7f7",
   "metadata": {},
   "outputs": [
    {
     "name": "stdout",
     "output_type": "stream",
     "text": [
      "1\n",
      "2\n",
      "3\n",
      "4\n",
      "5\n"
     ]
    }
   ],
   "source": [
    "#5. Why and When to Use while Loop in Python give a detailed description with example \n",
    "# :-A while loop in Python is used to execute a block of code repeatedly as long as a certain condition is true.\n",
    "# The loop continues to execute until the condition becomes false. \n",
    "# A while loop is useful when the number of iterations required to complete a task is unknown.\n",
    "# The condition is evaluated at the beginning of each iteration. \n",
    "# If the condition is true, the block of code inside the loop is executed. \n",
    "# After the execution of the block of code, the condition is evaluated again, \n",
    "# and if it's still true, the loop continues to execute. This process continues until the condition becomes false.\n",
    "# Here's an example of a simple while loop that prints numbers from 1 to 5:\n",
    "i = 1\n",
    "while i <= 5:\n",
    "    print(i)\n",
    "    i = i + 1"
   ]
  },
  {
   "cell_type": "code",
   "execution_count": 8,
   "id": "b7941cd5-f584-4121-964e-145fcefe6bd5",
   "metadata": {},
   "outputs": [
    {
     "name": "stdout",
     "output_type": "stream",
     "text": [
      "1\n",
      "12\n",
      "123\n",
      "1234\n",
      "12345\n",
      "\n",
      "\n",
      "\n",
      "*****\n",
      "****\n",
      "***\n",
      "**\n",
      "*\n",
      "\n",
      "\n",
      "\n",
      "1\n",
      "22\n",
      "333\n",
      "4444\n",
      "55555\n"
     ]
    }
   ],
   "source": [
    "# 6. Use nested while loop to print 3 different pattern.\n",
    "#1\n",
    "i=1\n",
    "while i <= 5:\n",
    "    j = 1\n",
    "    while j <= i:\n",
    "        print(j, end=\"\")\n",
    "        j=j+1\n",
    "    print(\"\")\n",
    "    i=i+1\n",
    "    \n",
    "print(\"\\n\\n\")    \n",
    "#2\n",
    "i = 5\n",
    "while i >= 1:\n",
    "    j = 1\n",
    "    while j <= i:\n",
    "        print(\"*\", end=\"\")\n",
    "        j += 1\n",
    "    print(\"\")\n",
    "    i -= 1\n",
    "print(\"\\n\\n\")\n",
    "#3\n",
    "i = 1\n",
    "while i <= 5:\n",
    "    j = 1\n",
    "    while j <= i:\n",
    "        print(i, end=\"\")\n",
    "        j += 1\n",
    "    print(\"\")\n",
    "    i += 1"
   ]
  },
  {
   "cell_type": "code",
   "execution_count": 9,
   "id": "2338f958-9279-4ebd-b7dc-cd4c3b06b307",
   "metadata": {},
   "outputs": [
    {
     "name": "stdout",
     "output_type": "stream",
     "text": [
      "10\n",
      "9\n",
      "8\n",
      "7\n",
      "6\n",
      "5\n",
      "4\n",
      "3\n",
      "2\n",
      "1\n"
     ]
    }
   ],
   "source": [
    "#7. Reverse a while loop to display numbers from 10 to 1. \n",
    "i = 10\n",
    "while i >= 1:\n",
    "    print(i)\n",
    "    i=i-1"
   ]
  },
  {
   "cell_type": "code",
   "execution_count": 10,
   "id": "f0a4bd64-62d0-45fa-bf52-ff4f043814e5",
   "metadata": {},
   "outputs": [
    {
     "name": "stdout",
     "output_type": "stream",
     "text": [
      "10\n",
      "9\n",
      "8\n",
      "7\n",
      "6\n",
      "5\n",
      "4\n",
      "3\n",
      "2\n",
      "1\n"
     ]
    }
   ],
   "source": [
    "#8. Reverse a while loop to display numbers from 10 to 1 \n",
    "i = 10\n",
    "while i >= 1:\n",
    "    print(i)\n",
    "    i=i-1"
   ]
  },
  {
   "cell_type": "code",
   "execution_count": null,
   "id": "cf293c16-9019-4014-9c7d-42c88e9d8091",
   "metadata": {},
   "outputs": [],
   "source": []
  }
 ],
 "metadata": {
  "kernelspec": {
   "display_name": "Python 3 (ipykernel)",
   "language": "python",
   "name": "python3"
  },
  "language_info": {
   "codemirror_mode": {
    "name": "ipython",
    "version": 3
   },
   "file_extension": ".py",
   "mimetype": "text/x-python",
   "name": "python",
   "nbconvert_exporter": "python",
   "pygments_lexer": "ipython3",
   "version": "3.10.8"
  }
 },
 "nbformat": 4,
 "nbformat_minor": 5
}
