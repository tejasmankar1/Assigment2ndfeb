{
 "cells": [
  {
   "cell_type": "raw",
   "id": "2c5db1ee-4eb3-4150-9c36-7b626151d560",
   "metadata": {},
   "source": [
    "Q1. What is an Exeption in python? Write the difference between Exceptions and syntax errors?\n",
    "\n",
    "An exception in Python is an error that occurs during the execution of a program. It may be due to various reasons such as invalid input, division by zero, out of memory, or trying to access an undefined variable. When an exception occurs, the normal flow of the program is disrupted, and the program terminates.\n",
    "\n",
    "The key difference between exceptions and syntax errors is that exceptions occur during the execution of a program, while syntax errors occur before the program is executed. Additionally, exceptions can be handled and resolved programmatically, while syntax errors must be fixed manually by the programmer\n",
    "\n",
    "Q2. What happens when an exception is not handled? Explain with an example\n",
    "\n",
    "When an exception is not handled, the program terminates abruptly and generates a traceback, which is a detailed report of the error that occurred. The traceback provides information about the line of code where the error occurred, the type of error, and a description of the error."
   ]
  },
  {
   "cell_type": "code",
   "execution_count": 1,
   "id": "51cdc83f-f8ee-47b4-9ee8-9eb9cb846489",
   "metadata": {},
   "outputs": [
    {
     "name": "stdout",
     "output_type": "stream",
     "text": [
      "2.0\n"
     ]
    },
    {
     "ename": "ZeroDivisionError",
     "evalue": "division by zero",
     "output_type": "error",
     "traceback": [
      "\u001b[0;31m---------------------------------------------------------------------------\u001b[0m",
      "\u001b[0;31mZeroDivisionError\u001b[0m                         Traceback (most recent call last)",
      "Cell \u001b[0;32mIn[1], line 6\u001b[0m\n\u001b[1;32m      3\u001b[0m     \u001b[38;5;28;01mreturn\u001b[39;00m result\n\u001b[1;32m      5\u001b[0m \u001b[38;5;28mprint\u001b[39m(divide(\u001b[38;5;241m10\u001b[39m, \u001b[38;5;241m5\u001b[39m))\n\u001b[0;32m----> 6\u001b[0m \u001b[38;5;28mprint\u001b[39m(\u001b[43mdivide\u001b[49m\u001b[43m(\u001b[49m\u001b[38;5;241;43m10\u001b[39;49m\u001b[43m,\u001b[49m\u001b[43m \u001b[49m\u001b[38;5;241;43m0\u001b[39;49m\u001b[43m)\u001b[49m)\n",
      "Cell \u001b[0;32mIn[1], line 2\u001b[0m, in \u001b[0;36mdivide\u001b[0;34m(x, y)\u001b[0m\n\u001b[1;32m      1\u001b[0m \u001b[38;5;28;01mdef\u001b[39;00m \u001b[38;5;21mdivide\u001b[39m(x, y):\n\u001b[0;32m----> 2\u001b[0m     result \u001b[38;5;241m=\u001b[39m \u001b[43mx\u001b[49m\u001b[43m \u001b[49m\u001b[38;5;241;43m/\u001b[39;49m\u001b[43m \u001b[49m\u001b[43my\u001b[49m\n\u001b[1;32m      3\u001b[0m     \u001b[38;5;28;01mreturn\u001b[39;00m result\n",
      "\u001b[0;31mZeroDivisionError\u001b[0m: division by zero"
     ]
    }
   ],
   "source": [
    "def divide(x, y):\n",
    "    result = x / y\n",
    "    return result\n",
    "\n",
    "print(divide(10, 5))\n",
    "print(divide(10, 0))"
   ]
  },
  {
   "cell_type": "raw",
   "id": "447f5c0d-6660-4edf-9ef8-1b955846aa09",
   "metadata": {},
   "source": [
    "Q3. Which Python statements are used to catch and handle exceptions? Explain with an example\n",
    "\n",
    "In Python, exceptions can be caught and handled using the try and except statements. The try block contains the code that might raise an exception, and the except block contains the code that will handle the exception if it occurs.\n",
    "\n",
    "Here is an example of how to use the try and except statements to handle a ZeroDivisionError exception:"
   ]
  },
  {
   "cell_type": "code",
   "execution_count": 2,
   "id": "48ad5874-ba0f-4972-b50b-c2487411e4dd",
   "metadata": {},
   "outputs": [
    {
     "name": "stdout",
     "output_type": "stream",
     "text": [
      "2.0\n",
      "Cannot divide by zero\n",
      "None\n"
     ]
    }
   ],
   "source": [
    "def divide(x, y):\n",
    "    try:\n",
    "        result = x / y\n",
    "    except ZeroDivisionError:\n",
    "        print(\"Cannot divide by zero\")\n",
    "    else:\n",
    "        return result\n",
    "\n",
    "print(divide(10, 5))\n",
    "print(divide(10, 0))"
   ]
  },
  {
   "cell_type": "raw",
   "id": "9d732c56-9234-4da7-acbc-4ba4f440eea3",
   "metadata": {},
   "source": [
    "Q4. Explain with an example:#\n",
    "\n",
    "try and else\n",
    "finally\n",
    "raise"
   ]
  },
  {
   "cell_type": "code",
   "execution_count": 3,
   "id": "85fff524-66d8-4894-8ecc-ffb8eecf2108",
   "metadata": {},
   "outputs": [
    {
     "name": "stdout",
     "output_type": "stream",
     "text": [
      "2.0\n",
      "5.0\n"
     ]
    }
   ],
   "source": [
    "def divide(x, y):\n",
    "    try:\n",
    "        result = x / y\n",
    "    except ZeroDivisionError:\n",
    "        print(\"Cannot divide by zero\")\n",
    "    else:\n",
    "        return result\n",
    "\n",
    "print(divide(10, 5))\n",
    "print(divide(10, 2))"
   ]
  },
  {
   "cell_type": "code",
   "execution_count": 4,
   "id": "a01084d9-feeb-475d-bc5f-2a6e935e0bbb",
   "metadata": {},
   "outputs": [
    {
     "name": "stdout",
     "output_type": "stream",
     "text": [
      "Executing finally block\n",
      "2.0\n",
      "Cannot divide by zero\n",
      "Executing finally block\n",
      "None\n"
     ]
    }
   ],
   "source": [
    "#The finally statement in Python is used to specify a block of code that should be executed regardless of whether an exception occurs or not. The code in the finally block is guaranteed to be executed, even if an exception is raised and not caught in the try block.\n",
    "#example\n",
    "def divide(x, y):\n",
    "    try:\n",
    "        result = x / y\n",
    "    except ZeroDivisionError:\n",
    "        print(\"Cannot divide by zero\")\n",
    "        result = None\n",
    "    finally:\n",
    "        print(\"Executing finally block\")\n",
    "    return result\n",
    "\n",
    "print(divide(10, 5)) \n",
    "print(divide(10, 0)) "
   ]
  },
  {
   "cell_type": "code",
   "execution_count": 5,
   "id": "6a76f58b-87c3-4a40-986d-730e823dc473",
   "metadata": {},
   "outputs": [
    {
     "name": "stdout",
     "output_type": "stream",
     "text": [
      "2.0\n",
      "Cannot divide by zero\n"
     ]
    }
   ],
   "source": [
    "#The raise statement in Python is used to raise an exception explicitly. It is used to indicate that an error has occurred and to stop the normal execution of the program.\n",
    "#example\n",
    "\n",
    "def divide(x, y):\n",
    "    if y == 0:\n",
    "        raise ZeroDivisionError(\"Cannot divide by zero\")\n",
    "    return x / y\n",
    "\n",
    "try:\n",
    "    print(divide(10, 5)) # Output: 2.0\n",
    "    print(divide(10, 0))\n",
    "except ZeroDivisionError as e:\n",
    "    print(e)"
   ]
  },
  {
   "cell_type": "raw",
   "id": "35545bf3-6a88-49ae-bb1f-e44680faaddd",
   "metadata": {},
   "source": [
    "Q5. What are Custom Exceptions in python? What do we need Custom Exceptions ? Explain in with an example\n",
    "\n",
    "Custom exceptions are user-defined exceptions in Python. They allow you to define specific types of exceptions for your application, so you can handle errors and exceptions in a more organized and meaningful way.\n",
    "\n",
    "For example, consider a scenario where you are writing a library that performs some mathematical calculations. In this library, you may encounter several different types of errors, such as invalid input, overflow, and divide-by-zero errors. You could handle these errors by raising built-in exceptions, such as ValueError or ZeroDivisionError, but it may not provide enough context or information about the error that has occurred."
   ]
  },
  {
   "cell_type": "code",
   "execution_count": 6,
   "id": "e0738e85-42b5-4da2-a6cb-d5827b786114",
   "metadata": {},
   "outputs": [
    {
     "name": "stdout",
     "output_type": "stream",
     "text": [
      "2.0\n",
      "Input values must be positive\n",
      "None\n",
      "Cannot divide by zero\n",
      "None\n"
     ]
    }
   ],
   "source": [
    "class InvalidInputError(Exception):\n",
    "    pass\n",
    "\n",
    "class OverflowError(Exception):\n",
    "    pass\n",
    "\n",
    "class DivideByZeroError(Exception):\n",
    "    pass\n",
    "\n",
    "def divide(x, y):\n",
    "    if y == 0:\n",
    "        raise DivideByZeroError(\"Cannot divide by zero\")\n",
    "    return x / y\n",
    "\n",
    "def calculate(x, y):\n",
    "    try:\n",
    "        if x < 0 or y < 0:\n",
    "            raise InvalidInputError(\"Input values must be positive\")\n",
    "        result = divide(x, y)\n",
    "    except DivideByZeroError as e:\n",
    "        print(e)\n",
    "    except InvalidInputError as e:\n",
    "        print(e)\n",
    "    else:\n",
    "        return result\n",
    "\n",
    "print(calculate(10, 5)) \n",
    "print(calculate(-10, 5)) \n",
    "print(calculate(10, 0)) "
   ]
  },
  {
   "cell_type": "code",
   "execution_count": 7,
   "id": "7a3eeaf1-5dd8-422c-aae7-e9f0db57e79b",
   "metadata": {},
   "outputs": [
    {
     "name": "stdout",
     "output_type": "stream",
     "text": [
      "2.0\n",
      "Cannot divide by zero\n"
     ]
    }
   ],
   "source": [
    "#Q6. Create a custom exception class. Use this class to handle an exception.\n",
    "\n",
    "\n",
    "class CustomException(Exception):\n",
    "    pass\n",
    "\n",
    "def divide(x, y):\n",
    "    if y == 0:\n",
    "        raise CustomException(\"Cannot divide by zero\")\n",
    "    return x / y\n",
    "\n",
    "try:\n",
    "    print(divide(10, 5))\n",
    "    print(divide(10, 0))\n",
    "except CustomException as e:\n",
    "    print(e) "
   ]
  },
  {
   "cell_type": "code",
   "execution_count": null,
   "id": "43f6b94b-4c0c-4256-a25c-0bb908a45ba9",
   "metadata": {},
   "outputs": [],
   "source": []
  }
 ],
 "metadata": {
  "kernelspec": {
   "display_name": "Python 3 (ipykernel)",
   "language": "python",
   "name": "python3"
  },
  "language_info": {
   "codemirror_mode": {
    "name": "ipython",
    "version": 3
   },
   "file_extension": ".py",
   "mimetype": "text/x-python",
   "name": "python",
   "nbconvert_exporter": "python",
   "pygments_lexer": "ipython3",
   "version": "3.10.8"
  }
 },
 "nbformat": 4,
 "nbformat_minor": 5
}
