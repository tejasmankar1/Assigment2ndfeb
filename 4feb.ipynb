{
 "cells": [
  {
   "cell_type": "code",
   "execution_count": 50,
   "id": "0113f6f4-1aa2-4add-b179-2f8bdb001c0d",
   "metadata": {},
   "outputs": [],
   "source": [
    "#Q1. Create a python program to sort the given list of tuples based on integer value using a lambda function.\n",
    "#[('Sachin Tendulkar', 34357), ('Ricky Ponting', 27483), ('Jack Kallis', 25534), ('Virat Kohli', 24936)]\n",
    "l = [('Sachin Tendulkar', 34357), ('Ricky Ponting', 27483), ('Jack Kallis', 25534), ('Virat Kohli', 24936)]\n",
    "l.sort(key = lambda x: x[1])\n"
   ]
  },
  {
   "cell_type": "code",
   "execution_count": 2,
   "id": "4a13b9c5-1a28-4db6-ab87-a292eb187f34",
   "metadata": {},
   "outputs": [
    {
     "data": {
      "text/plain": [
       "[1, 4, 9, 16, 25, 36, 49, 64, 81, 100]"
      ]
     },
     "execution_count": 2,
     "metadata": {},
     "output_type": "execute_result"
    }
   ],
   "source": [
    "#Q2. Write a Python Program to find the squares of all the numbers in the given list of integers using lambda and map functions.\n",
    "\n",
    "l1 = [1, 2, 3, 4, 5, 6, 7, 8, 9, 10]\n",
    "list(map(lambda x : x**2 , l1))"
   ]
  },
  {
   "cell_type": "code",
   "execution_count": 13,
   "id": "b686ec49-d907-4dac-b372-19c8304baf17",
   "metadata": {},
   "outputs": [
    {
     "data": {
      "text/plain": [
       "('1', '2', '3', '4', '5', '6', '7', '8', '9', '10')"
      ]
     },
     "execution_count": 13,
     "metadata": {},
     "output_type": "execute_result"
    }
   ],
   "source": [
    "#Q3Write a python program to convert the given list of integers into a tuple of strings. Use map and lambda functions\n",
    "#Given String: [1, 2, 3, 4, 5, 6, 7, 8, 9, 10]\n",
    "#Expected output: ('1', '2', '3', '4', '5', '6', '7', '8', '9', '10')\n",
    "l2 = [1,2,3,4,5,6,7,8,9,10]\n",
    "tuple(map(lambda l2 : str(l2) , l2))"
   ]
  },
  {
   "cell_type": "code",
   "execution_count": 37,
   "id": "3de8c796-3c31-4385-be70-6de22cd07484",
   "metadata": {},
   "outputs": [],
   "source": [
    "#Q4Write a python program using reduce function to compute the product of a list containing numbers from 1 to 25.\n",
    "l3 = []\n",
    "def num(n):\n",
    "    for i in range(1,26):\n",
    "        l3.append(i)"
   ]
  },
  {
   "cell_type": "code",
   "execution_count": 38,
   "id": "d674a64d-9dc0-4ff3-8304-33e65c767860",
   "metadata": {},
   "outputs": [
    {
     "data": {
      "text/plain": [
       "15511210043330985984000000"
      ]
     },
     "execution_count": 38,
     "metadata": {},
     "output_type": "execute_result"
    }
   ],
   "source": [
    "from functools import reduce\n",
    "num(25)\n",
    "reduce(lambda x , y : x*y , l3)"
   ]
  },
  {
   "cell_type": "code",
   "execution_count": 35,
   "id": "59b6c6c4-7d36-4a44-b1ed-37179f89f699",
   "metadata": {},
   "outputs": [
    {
     "data": {
      "text/plain": [
       "[6, 60, 90, 120]"
      ]
     },
     "execution_count": 35,
     "metadata": {},
     "output_type": "execute_result"
    }
   ],
   "source": [
    "#Q5. Write a python program to filter the numbers in a given list that are divisible by 2 and 3 using the filter function.\n",
    "\n",
    "l4 = [2, 3, 6, 9, 27, 60, 90, 120, 55, 46]\n",
    "list(filter(lambda x : x%2==0 and x%3==0 , l4))"
   ]
  },
  {
   "cell_type": "code",
   "execution_count": 42,
   "id": "6722181e-e7b6-4e34-ad05-b83e5cbce398",
   "metadata": {},
   "outputs": [
    {
     "data": {
      "text/plain": [
       "['php', 'aba', 'radar', 'level']"
      ]
     },
     "execution_count": 42,
     "metadata": {},
     "output_type": "execute_result"
    }
   ],
   "source": [
    "#Q6. Write a python program to find palindromes in the given list of strings using lambda and filter function.\n",
    "\n",
    "l5 = ['python', 'php', 'aba', 'radar', 'level']\n",
    "list(filter(lambda x : x==x[::-1] , l5))"
   ]
  },
  {
   "cell_type": "code",
   "execution_count": null,
   "id": "24d90f6d-b385-4444-9205-b086b0ae0ef7",
   "metadata": {},
   "outputs": [],
   "source": []
  }
 ],
 "metadata": {
  "kernelspec": {
   "display_name": "Python 3 (ipykernel)",
   "language": "python",
   "name": "python3"
  },
  "language_info": {
   "codemirror_mode": {
    "name": "ipython",
    "version": 3
   },
   "file_extension": ".py",
   "mimetype": "text/x-python",
   "name": "python",
   "nbconvert_exporter": "python",
   "pygments_lexer": "ipython3",
   "version": "3.10.8"
  }
 },
 "nbformat": 4,
 "nbformat_minor": 5
}
