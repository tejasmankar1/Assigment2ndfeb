{
 "cells": [
  {
   "cell_type": "code",
   "execution_count": null,
   "id": "592e59a9-5eae-44c6-b4b0-d9b1d373d896",
   "metadata": {},
   "outputs": [],
   "source": [
    "#Q1. Which function is used to open a file? What are the different modes of opening a file? Explain each mode of file opening.\n",
    "#In Python, the open() function is used to open a file. This function takes two parameters: the first parameter is the file name, and the second parameter is the mode in which the file should be opened. The open() function returns a file object that can be used to read from or write to the file.\n",
    "\n",
    "#Here are the different modes of opening a file in Python:\n",
    "\n",
    "#r: This mode is used to open a file for reading. If the file does not exist, an error will be raised. This is the default mode when no mode is specified.\n",
    "\n",
    "#w: This mode is used to open a file for writing. If the file does not exist, it will be created. If the file already exists, its contents will be truncated.\n",
    "\n",
    "#x: This mode is used to open a file for exclusive creation. If the file already exists, an error will be raised.\n",
    "\n",
    "#a: This mode is used to open a file for appending. If the file does not exist, it will be created. If the file already exists, new data will be written to the end of the file.\n",
    "\n",
    "#b: This mode is used to open a file in binary mode.\n",
    "\n",
    "#t: This mode is used to open a file in text mode. This is the default mode when no mode is specified.\n",
    "\n",
    "#+: This mode is used to open a file for both reading and writing.\n",
    "# Open a file for reading\n",
    "file = open(\"example.txt\", \"r\")\n",
    "\n",
    "# Open a file for writing\n",
    "file = open(\"example.txt\", \"w\")\n",
    "\n",
    "# Open a file in binary mode\n",
    "file = open(\"example.txt\", \"rb\")\n",
    "\n",
    "# Open a file for both reading and writing\n",
    "file = open(\"example.txt\", \"r+\")\n",
    "\n",
    "\n",
    "#It is important to close the file after you have finished working with it, by calling the close() method on the file object. Alternatively, you can use the with statement, which will automatically close the file for you:\n",
    "with open(\"example.txt\", \"r\") as file:\n",
    "    # Do something with the file\n"
   ]
  },
  {
   "cell_type": "code",
   "execution_count": 1,
   "id": "e7a6eceb-1078-4833-abca-2e7db4149931",
   "metadata": {},
   "outputs": [],
   "source": [
    "#Q2. Why close() function is used? Why is it important to close a file?\n",
    "#The close() function is used to close a file object in Python. It is important to close a file after you have finished working with it to free up system resources and ensure that all data has been written to the file. Failing to close a file can result in data loss or corruption."
   ]
  },
  {
   "cell_type": "code",
   "execution_count": 2,
   "id": "0e221954-81b7-4012-b6ed-68bec1ede5b1",
   "metadata": {},
   "outputs": [],
   "source": [
    "#Q3. Write a python program to create a text file. Write ‘I want to become a Data Scientist’ in that file. Then\n",
    "#close the file. Open this file and read the content of the file.\n",
    "f = open(\"test1.txt\",'w')\n",
    "f.write(\"I want to become data scientist\")\n",
    "f.close()"
   ]
  },
  {
   "cell_type": "code",
   "execution_count": 3,
   "id": "07ac422a-663f-4abf-99c2-ad834697781a",
   "metadata": {},
   "outputs": [
    {
     "data": {
      "text/plain": [
       "'I want to become data scientist'"
      ]
     },
     "execution_count": 3,
     "metadata": {},
     "output_type": "execute_result"
    }
   ],
   "source": [
    "f = open(\"test1.txt\",'r')\n",
    "f.read()"
   ]
  },
  {
   "cell_type": "code",
   "execution_count": null,
   "id": "26425eb1-d3aa-4803-89e5-b777cae63a11",
   "metadata": {},
   "outputs": [],
   "source": [
    "#Q4. Explain the following with python code: read(), readline() and readlines().\n",
    "#In Python, there are several methods that can be used to read the contents of a file. These methods are:\n",
    "\n",
    "#read(): This method is used to read the entire contents of a file as a single string.\n",
    "\n",
    "#readline(): This method is used to read a single line of a file.\n",
    "\n",
    "#readlines(): This method is used to read all the lines of a file into a list.\n",
    "\n",
    "file = open(\"example.txt\", \"w\")\n",
    "file.write(\"I want to become data scientist\")\n",
    "\n",
    "# Read the entire contents of the file using read()\n",
    "contents = file.read()\n",
    "print(contents)\n",
    "\n",
    "# Read a single line of the file using readline()\n",
    "file.seek(0)  # move the file pointer back to the beginning of the file\n",
    "line = file.readline()\n",
    "print(line)\n",
    "\n",
    "# Read all the lines of the file into a list using readlines()\n",
    "file.seek(0)  # move the file pointer back to the beginning of the file\n",
    "lines = file.readlines()\n",
    "print(lines)\n",
    "\n",
    "file.close()"
   ]
  },
  {
   "cell_type": "code",
   "execution_count": null,
   "id": "b3dc4b7a-434e-47d4-ae0b-320dfa10df31",
   "metadata": {},
   "outputs": [],
   "source": [
    "#Q5. Explain why with statement is used with open(). What is the advantage of using with statement and\n",
    "#open() together?\n",
    "#In Python, the with statement is used with open() to ensure that the file is properly closed after it is no longer needed. This is important because files are limited resources, and leaving them open can cause issues such as memory leaks and other system resource problems.\n",
    "#When the code inside the with block completes, the file is automatically closed. This ensures that the file is closed even if an error occurs while the code is executing.\n",
    "#The main advantage of using with statement with open() is that it simplifies the code and ensures that the file is always closed properly. It also eliminates the need to explicitly close the file using close() method, which can be easy to forget. Additionally, using with statement with open() makes the code more readable and reduces the risk of errors."
   ]
  },
  {
   "cell_type": "code",
   "execution_count": null,
   "id": "4b837647-27ee-47ac-832a-0957b07fd7f4",
   "metadata": {},
   "outputs": [],
   "source": [
    "#Q6. Explain the write() and writelines() functions. Give a suitable example.\n",
    "#In Python, the write() and writelines() functions are used to write to a file. The write() function is used to write a single string to a file, and the writelines() function is used to write a list of strings to a file.\n",
    "# Open a file for writing\n",
    "file = open(\"example.txt\", \"w\")\n",
    "\n",
    "# Write a single string to the file using write()\n",
    "file.write(\"Hello, World!\\n\")\n",
    "\n",
    "# Write a list of strings to the file using writelines()\n",
    "lines = [\"This is the first line.\\n\", \"This is the second line.\\n\", \"This is the third line.\\n\"]\n",
    "file.writelines(lines)\n",
    "\n",
    "# Close the file\n",
    "file.close()\n",
    "\n",
    "#In this example, we open a file called \"example.txt\" for writing, and then we use the write() and writelines() functions to write to the file.\n",
    "\n",
    "#First, we use the write() function to write the string \"Hello, World!\" to the file, followed by a newline character.\n",
    "\n",
    "#Then, we define a list of strings called lines, and we use the writelines() function to write all the strings in the list to the file.\n",
    "\n",
    "#Finally, we close the file using the close() method to free up system resources."
   ]
  }
 ],
 "metadata": {
  "kernelspec": {
   "display_name": "Python 3 (ipykernel)",
   "language": "python",
   "name": "python3"
  },
  "language_info": {
   "codemirror_mode": {
    "name": "ipython",
    "version": 3
   },
   "file_extension": ".py",
   "mimetype": "text/x-python",
   "name": "python",
   "nbconvert_exporter": "python",
   "pygments_lexer": "ipython3",
   "version": "3.10.8"
  }
 },
 "nbformat": 4,
 "nbformat_minor": 5
}
