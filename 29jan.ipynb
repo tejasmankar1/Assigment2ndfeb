{
 "cells": [
  {
   "cell_type": "code",
   "execution_count": 1,
   "id": "6f92bc4c-d5e5-4588-926d-8d60ec58380b",
   "metadata": {},
   "outputs": [],
   "source": [
    "# 1)Who developed Python programming language?\n",
    "# :-Python was developed by Guido van Rossum at Centrum Wiskunde & Informatica in the Netherlands"
   ]
  },
  {
   "cell_type": "code",
   "execution_count": 2,
   "id": "5ce87eab-d4b5-41e9-9fd2-e5f76f80a92e",
   "metadata": {},
   "outputs": [],
   "source": [
    "# 1)Who developed Python programming language?\n",
    "# :-Python was developed by Guido van Rossum at Centrum Wiskunde & Informatica in the Netherlands"
   ]
  },
  {
   "cell_type": "code",
   "execution_count": 3,
   "id": "d5eeceb5-ac09-4a07-bdcc-bcfef8076795",
   "metadata": {},
   "outputs": [],
   "source": [
    "# 3)Is python case sensitive when dealing with identifiers?\n",
    "# :-Yes, Python is case sensitive while dealing with identifires."
   ]
  },
  {
   "cell_type": "code",
   "execution_count": 4,
   "id": "39267afe-5bb0-4e38-be51-6c9fa969a259",
   "metadata": {},
   "outputs": [],
   "source": [
    "# 4)What is the correct extension of the python file?\n",
    "# :- .py is the correct extension of the python file\n"
   ]
  },
  {
   "cell_type": "code",
   "execution_count": 5,
   "id": "a176a1f6-a714-4523-948d-2a09c87b29b0",
   "metadata": {},
   "outputs": [],
   "source": [
    "# 5)Is python code compiled or interpreted?\n",
    "# :- python code is interpreted."
   ]
  },
  {
   "cell_type": "code",
   "execution_count": 6,
   "id": "6c7f8ae1-f006-4f9b-a01c-8a95fd520cad",
   "metadata": {},
   "outputs": [],
   "source": [
    "# 6)Name few blocks of code used to define in python language?\n",
    "# :-Module,Function body, and class definition."
   ]
  },
  {
   "cell_type": "code",
   "execution_count": 7,
   "id": "389ff785-be5a-40d3-a8a7-af402123d829",
   "metadata": {},
   "outputs": [],
   "source": [
    "# 7)State a character used to give single line comments in python?\n",
    "# :- #"
   ]
  },
  {
   "cell_type": "code",
   "execution_count": 8,
   "id": "32c2c8e2-52db-42a4-b8fe-126a556f4805",
   "metadata": {},
   "outputs": [],
   "source": [
    "# 8)Mention functions which can help us to find the version of python that we are currently working on?\n",
    "# :-sys.version"
   ]
  },
  {
   "cell_type": "code",
   "execution_count": 9,
   "id": "47a9cf96-b49c-4533-a46a-9b81abc74bfa",
   "metadata": {},
   "outputs": [],
   "source": [
    "# 9)Python supports the creation of anyonomous functions at runtime, using a construct called :-lambda"
   ]
  },
  {
   "cell_type": "code",
   "execution_count": 10,
   "id": "82536faa-77a2-45f0-b5f7-0cb8c0a53f6f",
   "metadata": {},
   "outputs": [],
   "source": [
    "# 10)What does pip stand for python?\n",
    "# :-Preferred Installer Program"
   ]
  },
  {
   "cell_type": "code",
   "execution_count": 11,
   "id": "45bb6158-c665-4919-b4e7-7db530263027",
   "metadata": {},
   "outputs": [],
   "source": [
    "# 11)Mention some built in functions in python?\n",
    "# :-type(),input(),pop(),insert(),append(),print()"
   ]
  },
  {
   "cell_type": "code",
   "execution_count": 12,
   "id": "e4c034f6-25c6-42bb-9837-4b3652c920bc",
   "metadata": {},
   "outputs": [],
   "source": [
    "# #12)What is the maximum possible length of an identifier in python?\n",
    "# :- An identifier can have a maximum length of 79 characters in Python"
   ]
  },
  {
   "cell_type": "code",
   "execution_count": 13,
   "id": "98ba10b3-9ef5-4829-83fe-fb82bc52eb04",
   "metadata": {},
   "outputs": [],
   "source": [
    "# 13)What are benifits of using python?\n",
    "# :-Python is one of the most popular programming languages in the world,Wide range of use cases and Python offers a wide range of libraries that can be used across various applications."
   ]
  },
  {
   "cell_type": "code",
   "execution_count": 14,
   "id": "5d0a5b68-9327-4678-9e48-d8c5c4f9521b",
   "metadata": {},
   "outputs": [],
   "source": [
    "# 14)How is memory managed in python?\n",
    "# :-Memory management in Python involves a private heap containing all Python objects and data structures. The management of this private heap is ensured internally by the Python memory manager."
   ]
  },
  {
   "cell_type": "code",
   "execution_count": 15,
   "id": "417bb978-5103-4cc3-9f09-33dd5dff207e",
   "metadata": {},
   "outputs": [],
   "source": [
    "# 15)How to install Python on windows and set path variables?\n",
    "# :-Download Python installer:\n",
    "# Go to the official Python website (https://www.python.org/downloads/) and download the latest version of Python for Windows. Choose the correct version based on your Windows architecture (32-bit or 64-bit).\n",
    "\n",
    "# Run the installer:\n",
    "# Once the download is complete, run the installer by double-clicking on the downloaded file. You will see a setup wizard.\n",
    "\n",
    "# Choose installation location:\n",
    "# Choose the installation location, and make sure to select the option to add Python to PATH during installation.\n",
    "\n",
    "# Customize the installation (Optional):\n",
    "# You can customize the installation by choosing the features you want to install. For most users, the default settings are sufficient.\n",
    "\n",
    "# Install Python:\n",
    "# Click on the \"Install Now\" button to start the installation process.\n",
    "\n",
    "# Verify installation:\n",
    "# Once the installation is complete, open the command prompt and type \"python\" to verify that Python is installed correctly. If Python is installed correctly, you should see the Python version number printed in the console.\n",
    "\n",
    "# Set Path variables:\n",
    "# To set the path variables, follow these steps:\n",
    "\n",
    "# Right-click on \"My Computer\" or \"This PC\" and select \"Properties\".\n",
    "# Click on \"Advanced System Settings\" on the left-hand side.\n",
    "# Click on the \"Environment Variables\" button at the bottom.\n",
    "# Under \"System Variables,\" scroll down and find the \"Path\" variable, and click \"Edit\".\n",
    "# Add the path to the Python installation folder to the end of the \"Variable value\" field. For example, if you installed Python to \"C:\\Python37\", add \";C:\\Python37\" to the end of the existing value.\n",
    "# Click \"OK\" to close all the windows."
   ]
  },
  {
   "cell_type": "code",
   "execution_count": 16,
   "id": "e1fa5c25-46d0-46b8-b487-69427c04000d",
   "metadata": {},
   "outputs": [],
   "source": [
    "# 16)Is indentation required in python?\n",
    "# :-Yes"
   ]
  },
  {
   "cell_type": "code",
   "execution_count": null,
   "id": "9122751f-e71b-4163-9b87-cd6d37b91907",
   "metadata": {},
   "outputs": [],
   "source": []
  }
 ],
 "metadata": {
  "kernelspec": {
   "display_name": "Python 3 (ipykernel)",
   "language": "python",
   "name": "python3"
  },
  "language_info": {
   "codemirror_mode": {
    "name": "ipython",
    "version": 3
   },
   "file_extension": ".py",
   "mimetype": "text/x-python",
   "name": "python",
   "nbconvert_exporter": "python",
   "pygments_lexer": "ipython3",
   "version": "3.10.8"
  }
 },
 "nbformat": 4,
 "nbformat_minor": 5
}
